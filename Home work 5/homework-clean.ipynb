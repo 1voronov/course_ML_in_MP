{
 "cells": [
  {
   "cell_type": "code",
   "execution_count": 1,
   "id": "cbae4933-41fe-4d6f-816d-55f4ebf3d5ea",
   "metadata": {},
   "outputs": [],
   "source": [
    "import pandas as pd\n",
    "import numpy as np\n",
    "import matplotlib.pyplot as plt\n",
    "import seaborn as sns\n",
    "%matplotlib inline\n",
    "\n",
    "from sklearn.neural_network import MLPClassifier\n",
    "from sklearn.metrics import mean_squared_error, classification_report, confusion_matrix, f1_score, precision_score, recall_score\n",
    "from sklearn.model_selection import train_test_split\n",
    "\n",
    "from collections import Counter"
   ]
  },
  {
   "cell_type": "markdown",
   "id": "4201d2d5-9593-475e-8927-a265de2f82b2",
   "metadata": {},
   "source": [
    "# Data\n",
    "\n",
    "This data is actually related to the elastic strain engineering task: given the (modified) deformation tensor, predict, whether the tiny diamond crystal under this deformation is a direct-bandgap semiconductor, or not.\n",
    "\n",
    "I will save you some time and process the data for you."
   ]
  },
  {
   "cell_type": "code",
   "execution_count": 2,
   "id": "ead9dcef-e192-4d53-a766-e47439fbb1db",
   "metadata": {},
   "outputs": [],
   "source": [
    "df = pd.read_csv('c_gw_direct.csv')"
   ]
  },
  {
   "cell_type": "code",
   "execution_count": 3,
   "id": "98142e50-885c-4faf-b4e9-e6c8b803d1eb",
   "metadata": {},
   "outputs": [
    {
     "data": {
      "text/plain": [
       "(9766, 7)"
      ]
     },
     "execution_count": 3,
     "metadata": {},
     "output_type": "execute_result"
    }
   ],
   "source": [
    "df.shape"
   ]
  },
  {
   "cell_type": "code",
   "execution_count": 4,
   "id": "b8d4cc7e-41f6-4ce1-bff5-2951f4de08d6",
   "metadata": {},
   "outputs": [
    {
     "data": {
      "text/html": [
       "<div>\n",
       "<style scoped>\n",
       "    .dataframe tbody tr th:only-of-type {\n",
       "        vertical-align: middle;\n",
       "    }\n",
       "\n",
       "    .dataframe tbody tr th {\n",
       "        vertical-align: top;\n",
       "    }\n",
       "\n",
       "    .dataframe thead th {\n",
       "        text-align: right;\n",
       "    }\n",
       "</style>\n",
       "<table border=\"1\" class=\"dataframe\">\n",
       "  <thead>\n",
       "    <tr style=\"text-align: right;\">\n",
       "      <th></th>\n",
       "      <th>exx</th>\n",
       "      <th>exy</th>\n",
       "      <th>exz</th>\n",
       "      <th>eyz</th>\n",
       "      <th>eyy</th>\n",
       "      <th>ezz</th>\n",
       "      <th>is_direct</th>\n",
       "    </tr>\n",
       "  </thead>\n",
       "  <tbody>\n",
       "    <tr>\n",
       "      <th>0</th>\n",
       "      <td>-0.049931</td>\n",
       "      <td>0.019480</td>\n",
       "      <td>-0.012549</td>\n",
       "      <td>0.071484</td>\n",
       "      <td>0.000141</td>\n",
       "      <td>0.036242</td>\n",
       "      <td>False</td>\n",
       "    </tr>\n",
       "    <tr>\n",
       "      <th>1</th>\n",
       "      <td>0.057604</td>\n",
       "      <td>0.070671</td>\n",
       "      <td>-0.010140</td>\n",
       "      <td>-0.063918</td>\n",
       "      <td>0.032494</td>\n",
       "      <td>-0.078462</td>\n",
       "      <td>False</td>\n",
       "    </tr>\n",
       "    <tr>\n",
       "      <th>2</th>\n",
       "      <td>-0.020174</td>\n",
       "      <td>-0.059848</td>\n",
       "      <td>0.017878</td>\n",
       "      <td>0.077713</td>\n",
       "      <td>-0.087613</td>\n",
       "      <td>-0.079651</td>\n",
       "      <td>False</td>\n",
       "    </tr>\n",
       "    <tr>\n",
       "      <th>3</th>\n",
       "      <td>-0.023523</td>\n",
       "      <td>-0.026120</td>\n",
       "      <td>0.045459</td>\n",
       "      <td>-0.035286</td>\n",
       "      <td>-0.000705</td>\n",
       "      <td>0.038353</td>\n",
       "      <td>False</td>\n",
       "    </tr>\n",
       "    <tr>\n",
       "      <th>4</th>\n",
       "      <td>-0.050925</td>\n",
       "      <td>-0.006037</td>\n",
       "      <td>-0.042681</td>\n",
       "      <td>-0.016254</td>\n",
       "      <td>-0.019372</td>\n",
       "      <td>-0.037559</td>\n",
       "      <td>False</td>\n",
       "    </tr>\n",
       "    <tr>\n",
       "      <th>...</th>\n",
       "      <td>...</td>\n",
       "      <td>...</td>\n",
       "      <td>...</td>\n",
       "      <td>...</td>\n",
       "      <td>...</td>\n",
       "      <td>...</td>\n",
       "      <td>...</td>\n",
       "    </tr>\n",
       "    <tr>\n",
       "      <th>9761</th>\n",
       "      <td>-0.096821</td>\n",
       "      <td>0.049679</td>\n",
       "      <td>-0.065829</td>\n",
       "      <td>0.060488</td>\n",
       "      <td>0.008918</td>\n",
       "      <td>0.006889</td>\n",
       "      <td>False</td>\n",
       "    </tr>\n",
       "    <tr>\n",
       "      <th>9762</th>\n",
       "      <td>-0.074071</td>\n",
       "      <td>0.027148</td>\n",
       "      <td>-0.056629</td>\n",
       "      <td>-0.068732</td>\n",
       "      <td>0.070384</td>\n",
       "      <td>-0.008722</td>\n",
       "      <td>False</td>\n",
       "    </tr>\n",
       "    <tr>\n",
       "      <th>9763</th>\n",
       "      <td>-0.061505</td>\n",
       "      <td>0.015496</td>\n",
       "      <td>0.077352</td>\n",
       "      <td>-0.037589</td>\n",
       "      <td>-0.047513</td>\n",
       "      <td>-0.045182</td>\n",
       "      <td>False</td>\n",
       "    </tr>\n",
       "    <tr>\n",
       "      <th>9764</th>\n",
       "      <td>-0.037760</td>\n",
       "      <td>0.037480</td>\n",
       "      <td>0.002881</td>\n",
       "      <td>-0.059958</td>\n",
       "      <td>-0.047096</td>\n",
       "      <td>0.060803</td>\n",
       "      <td>False</td>\n",
       "    </tr>\n",
       "    <tr>\n",
       "      <th>9765</th>\n",
       "      <td>0.017428</td>\n",
       "      <td>0.008733</td>\n",
       "      <td>0.099832</td>\n",
       "      <td>0.028535</td>\n",
       "      <td>-0.054355</td>\n",
       "      <td>-0.006599</td>\n",
       "      <td>False</td>\n",
       "    </tr>\n",
       "  </tbody>\n",
       "</table>\n",
       "<p>9766 rows × 7 columns</p>\n",
       "</div>"
      ],
      "text/plain": [
       "           exx       exy       exz       eyz       eyy       ezz  is_direct\n",
       "0    -0.049931  0.019480 -0.012549  0.071484  0.000141  0.036242      False\n",
       "1     0.057604  0.070671 -0.010140 -0.063918  0.032494 -0.078462      False\n",
       "2    -0.020174 -0.059848  0.017878  0.077713 -0.087613 -0.079651      False\n",
       "3    -0.023523 -0.026120  0.045459 -0.035286 -0.000705  0.038353      False\n",
       "4    -0.050925 -0.006037 -0.042681 -0.016254 -0.019372 -0.037559      False\n",
       "...        ...       ...       ...       ...       ...       ...        ...\n",
       "9761 -0.096821  0.049679 -0.065829  0.060488  0.008918  0.006889      False\n",
       "9762 -0.074071  0.027148 -0.056629 -0.068732  0.070384 -0.008722      False\n",
       "9763 -0.061505  0.015496  0.077352 -0.037589 -0.047513 -0.045182      False\n",
       "9764 -0.037760  0.037480  0.002881 -0.059958 -0.047096  0.060803      False\n",
       "9765  0.017428  0.008733  0.099832  0.028535 -0.054355 -0.006599      False\n",
       "\n",
       "[9766 rows x 7 columns]"
      ]
     },
     "execution_count": 4,
     "metadata": {},
     "output_type": "execute_result"
    }
   ],
   "source": [
    "df"
   ]
  },
  {
   "cell_type": "code",
   "execution_count": 5,
   "id": "f8f92663-d0d6-4d38-b212-945f03ff3f03",
   "metadata": {},
   "outputs": [
    {
     "data": {
      "text/plain": [
       "1376"
      ]
     },
     "execution_count": 5,
     "metadata": {},
     "output_type": "execute_result"
    }
   ],
   "source": [
    "df.is_direct.sum()"
   ]
  },
  {
   "cell_type": "code",
   "execution_count": 6,
   "id": "fa6e5ecc-9a65-494a-a55f-7cad32cb9bb3",
   "metadata": {},
   "outputs": [],
   "source": [
    "# Getting arrays from table\n",
    "X = df[['exx', 'exy', 'exz', 'eyz', 'eyy', 'ezz']].values\n",
    "y = df['is_direct'].ravel()"
   ]
  },
  {
   "cell_type": "code",
   "execution_count": 7,
   "id": "d6f69d42-4ca5-456f-bc73-7bb26d7b8ddc",
   "metadata": {},
   "outputs": [
    {
     "data": {
      "text/plain": [
       "Counter({False: 6723, True: 1089})"
      ]
     },
     "execution_count": 7,
     "metadata": {},
     "output_type": "execute_result"
    }
   ],
   "source": [
    "X_train, X_test, y_train, y_test = train_test_split(X, y,\n",
    "                                                    test_size=0.2,\n",
    "                                                    random_state=124)\n",
    "Counter(y_train)"
   ]
  },
  {
   "cell_type": "markdown",
   "id": "5b7b2c3e-9ee1-44cf-b92d-f27f99150971",
   "metadata": {},
   "source": [
    "# (3 pts) Train and evaluate a simple neural network classifier\n",
    "\n",
    "- Train a model\n",
    "- Calculate its precision, recall, f1-score\n",
    "- Take a look at the confusion matrix"
   ]
  },
  {
   "cell_type": "markdown",
   "id": "baae2ab9-8a62-44f4-ac7b-e5fb10507fcf",
   "metadata": {},
   "source": [
    "### Train a model"
   ]
  },
  {
   "cell_type": "code",
   "execution_count": 47,
   "id": "26f94711-fc84-4077-8080-63d476c1de2b",
   "metadata": {
    "scrolled": true,
    "tags": []
   },
   "outputs": [
    {
     "data": {
      "text/plain": [
       "MLPClassifier(max_iter=10000)"
      ]
     },
     "execution_count": 47,
     "metadata": {},
     "output_type": "execute_result"
    }
   ],
   "source": [
    "model = MLPClassifier(max_iter=10000)\n",
    "model.fit(X_train, y_train)"
   ]
  },
  {
   "cell_type": "markdown",
   "id": "db6342a9-889f-463f-a69f-9861c261ac34",
   "metadata": {},
   "source": [
    "### Look at the metrics"
   ]
  },
  {
   "cell_type": "code",
   "execution_count": 48,
   "id": "b984a22e-90c8-49b8-b51e-4b72c8e9323a",
   "metadata": {},
   "outputs": [
    {
     "name": "stdout",
     "output_type": "stream",
     "text": [
      "Precision: 0.7883817427385892\n",
      "Recall: 0.662020905923345\n",
      "f1-score: 0.7196969696969697\n"
     ]
    }
   ],
   "source": [
    "predictions = model.predict(X_test)\n",
    "\n",
    "precision = precision_score(y_test, predictions)\n",
    "print(f'Precision: {precision}')\n",
    "\n",
    "recall = recall_score(y_test, predictions)\n",
    "print(f'Recall: {recall}')\n",
    "\n",
    "f1 = f1_score(y_test, predictions)\n",
    "print(f'f1-score: {f1}')"
   ]
  },
  {
   "cell_type": "markdown",
   "id": "86214a26-1c86-4e6d-9629-0ef01b1e4c66",
   "metadata": {},
   "source": [
    "### Print the confusion matrix"
   ]
  },
  {
   "cell_type": "code",
   "execution_count": 10,
   "id": "2d3ad88f-6327-42a0-a428-94fa89368043",
   "metadata": {},
   "outputs": [
    {
     "data": {
      "text/plain": [
       "array([[1623,   44],\n",
       "       [ 137,  150]])"
      ]
     },
     "execution_count": 10,
     "metadata": {},
     "output_type": "execute_result"
    }
   ],
   "source": [
    "confusion_matrix(y_test, predictions)"
   ]
  },
  {
   "cell_type": "markdown",
   "id": "9c517c9e",
   "metadata": {},
   "source": [
    "## Итоги\n",
    "- Recall 0.66 показывает, что модель в среднем обнаруживает класс в 66% случаев. Это лишь немного лучше, чем 50% угадывание.\n",
    "- f1-score будем использовать как некую метрику, характеризующую баланс между precision и recall. Здесь за счет неплохой точности (precision) предсказания в целом f1-score повышается.\n",
    "- Нужно искать метод для повышения precision и recall."
   ]
  },
  {
   "cell_type": "markdown",
   "id": "9b47ec32-5340-44c0-b034-a20cfe1a6d88",
   "metadata": {},
   "source": [
    "# (3 pts) Use an undersampling technique to balance classes\n",
    "- Balance training sample\n",
    "- Train new model with the same hyperparameters as before\n",
    "- Evaluate its metrics. Is is better than the original model?"
   ]
  },
  {
   "cell_type": "code",
   "execution_count": 49,
   "id": "a63877f8-b911-4add-b418-7c0b56457c96",
   "metadata": {},
   "outputs": [
    {
     "data": {
      "text/plain": [
       "MLPClassifier(max_iter=10000)"
      ]
     },
     "execution_count": 49,
     "metadata": {},
     "output_type": "execute_result"
    }
   ],
   "source": [
    "idx_for_larger_class = np.nonzero(y_train == False)[0]\n",
    "idx_for_smaller_class = np.nonzero(y_train == True)[0]\n",
    "\n",
    "less_idx_for_larger_class = np.random.choice(idx_for_larger_class,\n",
    "                                            len(idx_for_smaller_class),\n",
    "                                            replace=False)\n",
    "\n",
    "new_idx = list(less_idx_for_larger_class) + list(idx_for_smaller_class)\n",
    "\n",
    "X_train_new = X_train[new_idx, :]\n",
    "y_train_new = y_train[new_idx]\n",
    "\n",
    "model_balanced = MLPClassifier(max_iter=10000)\n",
    "model_balanced.fit(X_train_new, y_train_new)\n"
   ]
  },
  {
   "cell_type": "code",
   "execution_count": 50,
   "id": "8573c593",
   "metadata": {},
   "outputs": [
    {
     "name": "stdout",
     "output_type": "stream",
     "text": [
      "Precision: 0.5155642023346303\n",
      "Recall: 0.9233449477351916\n",
      "f1-score: 0.66167290886392\n"
     ]
    }
   ],
   "source": [
    "predictions_balanced = model_balanced.predict(X_test)\n",
    "\n",
    "precision = precision_score(y_test, predictions_balanced)\n",
    "print(f'Precision: {precision}')\n",
    "\n",
    "recall = recall_score(y_test, predictions_balanced)\n",
    "print(f'Recall: {recall}')\n",
    "\n",
    "f1 = f1_score(y_test, predictions_balanced)\n",
    "print(f'f1-score: {f1}')"
   ]
  },
  {
   "cell_type": "code",
   "execution_count": 51,
   "id": "101348b2",
   "metadata": {},
   "outputs": [
    {
     "data": {
      "text/plain": [
       "array([[1418,  249],\n",
       "       [  22,  265]])"
      ]
     },
     "execution_count": 51,
     "metadata": {},
     "output_type": "execute_result"
    }
   ],
   "source": [
    "confusion_matrix(y_test, predictions_balanced)"
   ]
  },
  {
   "cell_type": "markdown",
   "id": "234e4a92",
   "metadata": {},
   "source": [
    "## Итоги\n",
    "- За счет большей сбалансированности данных модель стала лучше отличать один класс от другого. Об этом свидетельствует увеличение значения recall.\n",
    "- Точность предсказания при этом уменьшилась. Это можно связать с уменьшением выборки, что в целом негативно влияет на обобщаемость модели.\n",
    "- f1-score уменьшился на 0.05, поэтому вердикт следующий: случайная балансировка на данной выборке показывает плохие результаты."
   ]
  },
  {
   "cell_type": "markdown",
   "id": "e662d222-719f-415b-9aa7-14482b6658ef",
   "metadata": {},
   "source": [
    "# (3 pts) Try the imblearn package and its undersampling methods\n",
    "https://imbalanced-learn.org/stable/under_sampling.html\n",
    "- Try NearMiss, NeighbourhoodCleaningRule, and EditedNearestNeighbours methods\n",
    "- Do they perform better than the random undersampling?\n",
    "\n",
    "### You may need to reinstall sklearn if it is old"
   ]
  },
  {
   "cell_type": "code",
   "execution_count": 52,
   "id": "51cf1f5b-6a40-47b3-aa0a-cb1a5a277d89",
   "metadata": {
    "scrolled": true,
    "tags": []
   },
   "outputs": [],
   "source": [
    "# !pip uninstall -v scikit-learn -y"
   ]
  },
  {
   "cell_type": "code",
   "execution_count": 53,
   "id": "7b3e62ad-c9ca-4128-a983-df0ab8106ec2",
   "metadata": {
    "scrolled": true,
    "tags": []
   },
   "outputs": [],
   "source": [
    "# !pip install -v scikit-learn"
   ]
  },
  {
   "cell_type": "code",
   "execution_count": 54,
   "id": "d396fbd7-c790-4b7c-bfb2-2b9cde87966c",
   "metadata": {},
   "outputs": [],
   "source": [
    "# !pip install imblearn"
   ]
  },
  {
   "cell_type": "code",
   "execution_count": 55,
   "id": "4931365c-bebb-40b8-98bd-c6ae79b0a35b",
   "metadata": {},
   "outputs": [],
   "source": [
    "from imblearn.under_sampling import NearMiss, EditedNearestNeighbours, NeighbourhoodCleaningRule"
   ]
  },
  {
   "cell_type": "markdown",
   "id": "9561dfba",
   "metadata": {},
   "source": [
    "### Balancing with NearMiss"
   ]
  },
  {
   "cell_type": "code",
   "execution_count": 56,
   "id": "24500213-36a9-44ff-8035-c273b89c66b3",
   "metadata": {},
   "outputs": [],
   "source": [
    "nm1 = NearMiss(version=1)\n",
    "X_resampled_nm1, y_resampled_nm1 = nm1.fit_resample(X_train, y_train)"
   ]
  },
  {
   "cell_type": "code",
   "execution_count": 57,
   "id": "210f676f",
   "metadata": {},
   "outputs": [
    {
     "data": {
      "text/plain": [
       "MLPClassifier(max_iter=10000)"
      ]
     },
     "execution_count": 57,
     "metadata": {},
     "output_type": "execute_result"
    }
   ],
   "source": [
    "model_balanced_nearmiss = MLPClassifier(max_iter=10000)\n",
    "model_balanced_nearmiss.fit(X_resampled_nm1, y_resampled_nm1)"
   ]
  },
  {
   "cell_type": "code",
   "execution_count": 58,
   "id": "4c441c2e",
   "metadata": {},
   "outputs": [
    {
     "name": "stdout",
     "output_type": "stream",
     "text": [
      "Precision: 0.534521158129176\n",
      "Recall: 0.8362369337979094\n",
      "f1-score: 0.6521739130434783\n"
     ]
    }
   ],
   "source": [
    "predictions_balanced_nearmiss = model_balanced_nearmiss.predict(X_test)\n",
    "\n",
    "precision = precision_score(y_test, predictions_balanced_nearmiss)\n",
    "print(f'Precision: {precision}')\n",
    "\n",
    "recall = recall_score(y_test, predictions_balanced_nearmiss)\n",
    "print(f'Recall: {recall}')\n",
    "\n",
    "f1 = f1_score(y_test, predictions_balanced_nearmiss)\n",
    "print(f'f1-score: {f1}')"
   ]
  },
  {
   "cell_type": "markdown",
   "id": "eacf56eb",
   "metadata": {},
   "source": [
    "### Balancing with NeighbourhoodCleaningRule"
   ]
  },
  {
   "cell_type": "code",
   "execution_count": 59,
   "id": "cfac0f71",
   "metadata": {},
   "outputs": [],
   "source": [
    "ncr = NeighbourhoodCleaningRule()\n",
    "X_resampled_ncr, y_resampled_ncr = ncr.fit_resample(X_train, y_train)"
   ]
  },
  {
   "cell_type": "code",
   "execution_count": 60,
   "id": "a816b134",
   "metadata": {},
   "outputs": [
    {
     "data": {
      "text/plain": [
       "MLPClassifier(max_iter=10000)"
      ]
     },
     "execution_count": 60,
     "metadata": {},
     "output_type": "execute_result"
    }
   ],
   "source": [
    "model_balanced_ncr = MLPClassifier(max_iter=10000)\n",
    "model_balanced_ncr.fit(X_resampled_ncr, y_resampled_ncr)"
   ]
  },
  {
   "cell_type": "code",
   "execution_count": 61,
   "id": "a2acdeb4",
   "metadata": {},
   "outputs": [
    {
     "name": "stdout",
     "output_type": "stream",
     "text": [
      "Precision: 0.6755852842809364\n",
      "Recall: 0.7038327526132404\n",
      "f1-score: 0.6894197952218429\n"
     ]
    }
   ],
   "source": [
    "predictions_balanced_ncr = model_balanced_ncr.predict(X_test)\n",
    "\n",
    "precision = precision_score(y_test, predictions_balanced_ncr)\n",
    "print(f'Precision: {precision}')\n",
    "\n",
    "recall = recall_score(y_test, predictions_balanced_ncr)\n",
    "print(f'Recall: {recall}')\n",
    "\n",
    "f1 = f1_score(y_test, predictions_balanced_ncr)\n",
    "print(f'f1-score: {f1}')"
   ]
  },
  {
   "cell_type": "markdown",
   "id": "33d01e71",
   "metadata": {},
   "source": [
    "### Balancing with EditedNearestNeighbours"
   ]
  },
  {
   "cell_type": "code",
   "execution_count": 62,
   "id": "fa5e26ce",
   "metadata": {},
   "outputs": [],
   "source": [
    "enn = EditedNearestNeighbours()\n",
    "X_resampled_enn, y_resampled_enn = enn.fit_resample(X_train, y_train)"
   ]
  },
  {
   "cell_type": "code",
   "execution_count": 63,
   "id": "ff5b6b39",
   "metadata": {},
   "outputs": [
    {
     "data": {
      "text/plain": [
       "MLPClassifier(max_iter=10000)"
      ]
     },
     "execution_count": 63,
     "metadata": {},
     "output_type": "execute_result"
    }
   ],
   "source": [
    "model_balanced_enn = MLPClassifier(max_iter=10000)\n",
    "model_balanced_enn.fit(X_resampled_enn, y_resampled_enn)"
   ]
  },
  {
   "cell_type": "code",
   "execution_count": 64,
   "id": "0b4daeab",
   "metadata": {},
   "outputs": [
    {
     "name": "stdout",
     "output_type": "stream",
     "text": [
      "Precision: 0.25\n",
      "Recall: 0.010452961672473868\n",
      "f1-score: 0.020066889632107024\n"
     ]
    }
   ],
   "source": [
    "predictions_balanced_enn = model_balanced_enn.predict(X_test)\n",
    "\n",
    "precision = precision_score(y_test, predictions_balanced_enn)\n",
    "print(f'Precision: {precision}')\n",
    "\n",
    "recall = recall_score(y_test, predictions_balanced_enn)\n",
    "print(f'Recall: {recall}')\n",
    "\n",
    "f1 = f1_score(y_test, predictions_balanced_enn)\n",
    "print(f'f1-score: {f1}')"
   ]
  },
  {
   "cell_type": "markdown",
   "id": "6a80ee9c",
   "metadata": {},
   "source": [
    "## Итоги\n",
    "- NearMiss и NeighbourhoodCleaningRule дают результат хуже, чем без балансировки. Применение этих методов дает свои результаты, но в итоге f1-score не увеличивается, поэтому их использование здесь не оправданно.\n",
    "- EdintedNearestNeighbours показывает колоссально негативный результат, метрики говорят сами за себя. Не рекомендую здесь."
   ]
  },
  {
   "cell_type": "markdown",
   "id": "7ac9f48a-b6b3-4198-9a72-55e90da320e3",
   "metadata": {},
   "source": [
    "# (3 pts) Perform hyperparameter tuning\n",
    "- Run a cycle through some hyperparater settings in order to find the best ones\n",
    "- E.g. hidden layer sizes, alpha regularization ...\n",
    "- You need to be able to outperform your initial model\n",
    "- I do not care whether you use balanced or imbalanced training set"
   ]
  },
  {
   "cell_type": "code",
   "execution_count": 65,
   "id": "7306b28a",
   "metadata": {},
   "outputs": [],
   "source": [
    "hidden_layer_sizes_list = [\n",
    "    (200, ),\n",
    "    (100, ),\n",
    "    (100, 100, ),\n",
    "    (50, 50, ),\n",
    "    (50, 50, 50, ),\n",
    "    (50, 50, 50, 50),\n",
    "]\n",
    "\n",
    "alpha_list = [\n",
    "    0.000001, 0.00001, 0.0001, 0.001, 0.01,\n",
    "]"
   ]
  },
  {
   "cell_type": "code",
   "execution_count": 66,
   "id": "3c2a4899-91a6-426c-8a6b-a965a69e2802",
   "metadata": {},
   "outputs": [
    {
     "name": "stderr",
     "output_type": "stream",
     "text": [
      "/home/ilyavoronov/miniconda3/envs/plasma_env/lib/python3.9/site-packages/sklearn/metrics/_classification.py:1318: UndefinedMetricWarning: Precision is ill-defined and being set to 0.0 due to no predicted samples. Use `zero_division` parameter to control this behavior.\n",
      "  _warn_prf(average, modifier, msg_start, len(result))\n",
      "/home/ilyavoronov/miniconda3/envs/plasma_env/lib/python3.9/site-packages/sklearn/metrics/_classification.py:1318: UndefinedMetricWarning: Precision is ill-defined and being set to 0.0 due to no predicted samples. Use `zero_division` parameter to control this behavior.\n",
      "  _warn_prf(average, modifier, msg_start, len(result))\n",
      "/home/ilyavoronov/miniconda3/envs/plasma_env/lib/python3.9/site-packages/sklearn/metrics/_classification.py:1318: UndefinedMetricWarning: Precision is ill-defined and being set to 0.0 due to no predicted samples. Use `zero_division` parameter to control this behavior.\n",
      "  _warn_prf(average, modifier, msg_start, len(result))\n"
     ]
    }
   ],
   "source": [
    "metrics_grid = {\n",
    "    'hidden_layer_sizes': [],\n",
    "    'alpha': [],\n",
    "    'precision': [],\n",
    "    'recall': [],\n",
    "    'f1': [],\n",
    "}\n",
    "\n",
    "for hidden_layer_sizes_ in hidden_layer_sizes_list:\n",
    "    for alpha_ in alpha_list:\n",
    "        model = MLPClassifier(hidden_layer_sizes=hidden_layer_sizes_, alpha=alpha_, max_iter=10000)\n",
    "        model.fit(X_train, y_train)\n",
    "        predictions = model.predict(X_test)\n",
    "\n",
    "        precision = precision_score(y_test, predictions)\n",
    "        recall = recall_score(y_test, predictions)\n",
    "        f1 = f1_score(y_test, predictions)\n",
    "\n",
    "        metrics_grid['hidden_layer_sizes'].append(hidden_layer_sizes_)\n",
    "        metrics_grid['alpha'].append(alpha_)\n",
    "        metrics_grid['precision'].append(precision)\n",
    "        metrics_grid['recall'].append(recall)\n",
    "        metrics_grid['f1'].append(f1)\n"
   ]
  },
  {
   "cell_type": "code",
   "execution_count": 70,
   "id": "d6a241f5",
   "metadata": {
    "scrolled": true
   },
   "outputs": [
    {
     "data": {
      "text/html": [
       "<div>\n",
       "<style scoped>\n",
       "    .dataframe tbody tr th:only-of-type {\n",
       "        vertical-align: middle;\n",
       "    }\n",
       "\n",
       "    .dataframe tbody tr th {\n",
       "        vertical-align: top;\n",
       "    }\n",
       "\n",
       "    .dataframe thead th {\n",
       "        text-align: right;\n",
       "    }\n",
       "</style>\n",
       "<table border=\"1\" class=\"dataframe\">\n",
       "  <thead>\n",
       "    <tr style=\"text-align: right;\">\n",
       "      <th></th>\n",
       "      <th>hidden_layer_sizes</th>\n",
       "      <th>alpha</th>\n",
       "      <th>precision</th>\n",
       "      <th>recall</th>\n",
       "      <th>f1</th>\n",
       "    </tr>\n",
       "  </thead>\n",
       "  <tbody>\n",
       "    <tr>\n",
       "      <th>0</th>\n",
       "      <td>(200,)</td>\n",
       "      <td>0.000001</td>\n",
       "      <td>0.851301</td>\n",
       "      <td>0.797909</td>\n",
       "      <td>0.823741</td>\n",
       "    </tr>\n",
       "    <tr>\n",
       "      <th>1</th>\n",
       "      <td>(200,)</td>\n",
       "      <td>0.000010</td>\n",
       "      <td>0.806897</td>\n",
       "      <td>0.815331</td>\n",
       "      <td>0.811092</td>\n",
       "    </tr>\n",
       "    <tr>\n",
       "      <th>2</th>\n",
       "      <td>(200,)</td>\n",
       "      <td>0.000100</td>\n",
       "      <td>0.890688</td>\n",
       "      <td>0.766551</td>\n",
       "      <td>0.823970</td>\n",
       "    </tr>\n",
       "    <tr>\n",
       "      <th>3</th>\n",
       "      <td>(200,)</td>\n",
       "      <td>0.001000</td>\n",
       "      <td>0.862745</td>\n",
       "      <td>0.766551</td>\n",
       "      <td>0.811808</td>\n",
       "    </tr>\n",
       "    <tr>\n",
       "      <th>4</th>\n",
       "      <td>(200,)</td>\n",
       "      <td>0.010000</td>\n",
       "      <td>0.714286</td>\n",
       "      <td>0.261324</td>\n",
       "      <td>0.382653</td>\n",
       "    </tr>\n",
       "    <tr>\n",
       "      <th>5</th>\n",
       "      <td>(100,)</td>\n",
       "      <td>0.000001</td>\n",
       "      <td>0.832579</td>\n",
       "      <td>0.641115</td>\n",
       "      <td>0.724409</td>\n",
       "    </tr>\n",
       "    <tr>\n",
       "      <th>6</th>\n",
       "      <td>(100,)</td>\n",
       "      <td>0.000010</td>\n",
       "      <td>0.741784</td>\n",
       "      <td>0.550523</td>\n",
       "      <td>0.632000</td>\n",
       "    </tr>\n",
       "    <tr>\n",
       "      <th>7</th>\n",
       "      <td>(100,)</td>\n",
       "      <td>0.000100</td>\n",
       "      <td>0.757991</td>\n",
       "      <td>0.578397</td>\n",
       "      <td>0.656126</td>\n",
       "    </tr>\n",
       "    <tr>\n",
       "      <th>8</th>\n",
       "      <td>(100,)</td>\n",
       "      <td>0.001000</td>\n",
       "      <td>0.816832</td>\n",
       "      <td>0.574913</td>\n",
       "      <td>0.674847</td>\n",
       "    </tr>\n",
       "    <tr>\n",
       "      <th>9</th>\n",
       "      <td>(100,)</td>\n",
       "      <td>0.010000</td>\n",
       "      <td>0.000000</td>\n",
       "      <td>0.000000</td>\n",
       "      <td>0.000000</td>\n",
       "    </tr>\n",
       "    <tr>\n",
       "      <th>10</th>\n",
       "      <td>(100, 100)</td>\n",
       "      <td>0.000001</td>\n",
       "      <td>0.832776</td>\n",
       "      <td>0.867596</td>\n",
       "      <td>0.849829</td>\n",
       "    </tr>\n",
       "    <tr>\n",
       "      <th>11</th>\n",
       "      <td>(100, 100)</td>\n",
       "      <td>0.000010</td>\n",
       "      <td>0.862676</td>\n",
       "      <td>0.853659</td>\n",
       "      <td>0.858144</td>\n",
       "    </tr>\n",
       "    <tr>\n",
       "      <th>12</th>\n",
       "      <td>(100, 100)</td>\n",
       "      <td>0.000100</td>\n",
       "      <td>0.880000</td>\n",
       "      <td>0.843206</td>\n",
       "      <td>0.861210</td>\n",
       "    </tr>\n",
       "    <tr>\n",
       "      <th>13</th>\n",
       "      <td>(100, 100)</td>\n",
       "      <td>0.001000</td>\n",
       "      <td>0.893939</td>\n",
       "      <td>0.822300</td>\n",
       "      <td>0.856624</td>\n",
       "    </tr>\n",
       "    <tr>\n",
       "      <th>14</th>\n",
       "      <td>(100, 100)</td>\n",
       "      <td>0.010000</td>\n",
       "      <td>0.837545</td>\n",
       "      <td>0.808362</td>\n",
       "      <td>0.822695</td>\n",
       "    </tr>\n",
       "    <tr>\n",
       "      <th>15</th>\n",
       "      <td>(50, 50)</td>\n",
       "      <td>0.000001</td>\n",
       "      <td>0.888462</td>\n",
       "      <td>0.804878</td>\n",
       "      <td>0.844607</td>\n",
       "    </tr>\n",
       "    <tr>\n",
       "      <th>16</th>\n",
       "      <td>(50, 50)</td>\n",
       "      <td>0.000010</td>\n",
       "      <td>0.871698</td>\n",
       "      <td>0.804878</td>\n",
       "      <td>0.836957</td>\n",
       "    </tr>\n",
       "    <tr>\n",
       "      <th>17</th>\n",
       "      <td>(50, 50)</td>\n",
       "      <td>0.000100</td>\n",
       "      <td>0.796552</td>\n",
       "      <td>0.804878</td>\n",
       "      <td>0.800693</td>\n",
       "    </tr>\n",
       "    <tr>\n",
       "      <th>18</th>\n",
       "      <td>(50, 50)</td>\n",
       "      <td>0.001000</td>\n",
       "      <td>0.886364</td>\n",
       "      <td>0.815331</td>\n",
       "      <td>0.849365</td>\n",
       "    </tr>\n",
       "    <tr>\n",
       "      <th>19</th>\n",
       "      <td>(50, 50)</td>\n",
       "      <td>0.010000</td>\n",
       "      <td>0.000000</td>\n",
       "      <td>0.000000</td>\n",
       "      <td>0.000000</td>\n",
       "    </tr>\n",
       "    <tr>\n",
       "      <th>20</th>\n",
       "      <td>(50, 50, 50)</td>\n",
       "      <td>0.000001</td>\n",
       "      <td>0.876812</td>\n",
       "      <td>0.843206</td>\n",
       "      <td>0.859680</td>\n",
       "    </tr>\n",
       "    <tr>\n",
       "      <th>21</th>\n",
       "      <td>(50, 50, 50)</td>\n",
       "      <td>0.000010</td>\n",
       "      <td>0.857664</td>\n",
       "      <td>0.818815</td>\n",
       "      <td>0.837790</td>\n",
       "    </tr>\n",
       "    <tr>\n",
       "      <th>22</th>\n",
       "      <td>(50, 50, 50)</td>\n",
       "      <td>0.000100</td>\n",
       "      <td>0.956938</td>\n",
       "      <td>0.696864</td>\n",
       "      <td>0.806452</td>\n",
       "    </tr>\n",
       "    <tr>\n",
       "      <th>23</th>\n",
       "      <td>(50, 50, 50)</td>\n",
       "      <td>0.001000</td>\n",
       "      <td>0.897233</td>\n",
       "      <td>0.790941</td>\n",
       "      <td>0.840741</td>\n",
       "    </tr>\n",
       "    <tr>\n",
       "      <th>24</th>\n",
       "      <td>(50, 50, 50)</td>\n",
       "      <td>0.010000</td>\n",
       "      <td>0.908333</td>\n",
       "      <td>0.759582</td>\n",
       "      <td>0.827324</td>\n",
       "    </tr>\n",
       "    <tr>\n",
       "      <th>25</th>\n",
       "      <td>(50, 50, 50, 50)</td>\n",
       "      <td>0.000001</td>\n",
       "      <td>0.887597</td>\n",
       "      <td>0.797909</td>\n",
       "      <td>0.840367</td>\n",
       "    </tr>\n",
       "    <tr>\n",
       "      <th>26</th>\n",
       "      <td>(50, 50, 50, 50)</td>\n",
       "      <td>0.000010</td>\n",
       "      <td>0.882353</td>\n",
       "      <td>0.783972</td>\n",
       "      <td>0.830258</td>\n",
       "    </tr>\n",
       "    <tr>\n",
       "      <th>27</th>\n",
       "      <td>(50, 50, 50, 50)</td>\n",
       "      <td>0.000100</td>\n",
       "      <td>0.596603</td>\n",
       "      <td>0.979094</td>\n",
       "      <td>0.741425</td>\n",
       "    </tr>\n",
       "    <tr>\n",
       "      <th>28</th>\n",
       "      <td>(50, 50, 50, 50)</td>\n",
       "      <td>0.001000</td>\n",
       "      <td>0.000000</td>\n",
       "      <td>0.000000</td>\n",
       "      <td>0.000000</td>\n",
       "    </tr>\n",
       "    <tr>\n",
       "      <th>29</th>\n",
       "      <td>(50, 50, 50, 50)</td>\n",
       "      <td>0.010000</td>\n",
       "      <td>0.972477</td>\n",
       "      <td>0.738676</td>\n",
       "      <td>0.839604</td>\n",
       "    </tr>\n",
       "  </tbody>\n",
       "</table>\n",
       "</div>"
      ],
      "text/plain": [
       "   hidden_layer_sizes     alpha  precision    recall        f1\n",
       "0              (200,)  0.000001   0.851301  0.797909  0.823741\n",
       "1              (200,)  0.000010   0.806897  0.815331  0.811092\n",
       "2              (200,)  0.000100   0.890688  0.766551  0.823970\n",
       "3              (200,)  0.001000   0.862745  0.766551  0.811808\n",
       "4              (200,)  0.010000   0.714286  0.261324  0.382653\n",
       "5              (100,)  0.000001   0.832579  0.641115  0.724409\n",
       "6              (100,)  0.000010   0.741784  0.550523  0.632000\n",
       "7              (100,)  0.000100   0.757991  0.578397  0.656126\n",
       "8              (100,)  0.001000   0.816832  0.574913  0.674847\n",
       "9              (100,)  0.010000   0.000000  0.000000  0.000000\n",
       "10         (100, 100)  0.000001   0.832776  0.867596  0.849829\n",
       "11         (100, 100)  0.000010   0.862676  0.853659  0.858144\n",
       "12         (100, 100)  0.000100   0.880000  0.843206  0.861210\n",
       "13         (100, 100)  0.001000   0.893939  0.822300  0.856624\n",
       "14         (100, 100)  0.010000   0.837545  0.808362  0.822695\n",
       "15           (50, 50)  0.000001   0.888462  0.804878  0.844607\n",
       "16           (50, 50)  0.000010   0.871698  0.804878  0.836957\n",
       "17           (50, 50)  0.000100   0.796552  0.804878  0.800693\n",
       "18           (50, 50)  0.001000   0.886364  0.815331  0.849365\n",
       "19           (50, 50)  0.010000   0.000000  0.000000  0.000000\n",
       "20       (50, 50, 50)  0.000001   0.876812  0.843206  0.859680\n",
       "21       (50, 50, 50)  0.000010   0.857664  0.818815  0.837790\n",
       "22       (50, 50, 50)  0.000100   0.956938  0.696864  0.806452\n",
       "23       (50, 50, 50)  0.001000   0.897233  0.790941  0.840741\n",
       "24       (50, 50, 50)  0.010000   0.908333  0.759582  0.827324\n",
       "25   (50, 50, 50, 50)  0.000001   0.887597  0.797909  0.840367\n",
       "26   (50, 50, 50, 50)  0.000010   0.882353  0.783972  0.830258\n",
       "27   (50, 50, 50, 50)  0.000100   0.596603  0.979094  0.741425\n",
       "28   (50, 50, 50, 50)  0.001000   0.000000  0.000000  0.000000\n",
       "29   (50, 50, 50, 50)  0.010000   0.972477  0.738676  0.839604"
      ]
     },
     "execution_count": 70,
     "metadata": {},
     "output_type": "execute_result"
    }
   ],
   "source": [
    "metrics_grid_df = pd.DataFrame.from_dict(metrics_grid)\n",
    "metrics_grid_df"
   ]
  },
  {
   "cell_type": "code",
   "execution_count": 68,
   "id": "924331e1",
   "metadata": {},
   "outputs": [],
   "source": [
    "pivot = metrics_grid_df.pivot_table(\n",
    "    index=['hidden_layer_sizes'],\n",
    "    columns=['alpha'],\n",
    "    values='f1')"
   ]
  },
  {
   "cell_type": "code",
   "execution_count": 69,
   "id": "9b0f1edc",
   "metadata": {},
   "outputs": [
    {
     "data": {
      "text/plain": [
       "<AxesSubplot:xlabel='alpha', ylabel='hidden_layer_sizes'>"
      ]
     },
     "execution_count": 69,
     "metadata": {},
     "output_type": "execute_result"
    },
    {
     "data": {
      "image/png": "[encoded data removed]",
      "text/plain": [
       "<Figure size 432x288 with 2 Axes>"
      ]
     },
     "metadata": {
      "needs_background": "light"
     },
     "output_type": "display_data"
    }
   ],
   "source": [
    "sns.heatmap(pivot, annot=True)"
   ]
  },
  {
   "cell_type": "markdown",
   "id": "312a8006",
   "metadata": {},
   "source": [
    "## Итоги\n",
    "- По сводной таблице видно, что с уменьшением alpha и увеличением числа слоев растет f1-score. Далее уже при повышении числа нейронов в слое тоже идет повышение. Но в то же время это ведет к увеличению расчетного времени. \n",
    "- Лучше всего показали себя модели с размером (50, 50, 50) и (100, 100). Но последней для достижения этого уровня потребовался меньший параметр регуляризации.\n",
    "- Оптимальной предлагается считать модель со слеудющими гипер-параметрами:"
   ]
  },
  {
   "cell_type": "code",
   "execution_count": 72,
   "id": "0b804395",
   "metadata": {},
   "outputs": [
    {
     "data": {
      "text/plain": [
       "hidden_layer_sizes    (100, 100)\n",
       "alpha                     0.0001\n",
       "precision                   0.88\n",
       "recall                  0.843206\n",
       "f1                       0.86121\n",
       "Name: 12, dtype: object"
      ]
     },
     "execution_count": 72,
     "metadata": {},
     "output_type": "execute_result"
    }
   ],
   "source": [
    "metrics_grid_df.loc[12]"
   ]
  },
  {
   "cell_type": "markdown",
   "id": "10ed2ff8-6273-4dc8-99bd-506d2ce23145",
   "metadata": {},
   "source": [
    "# My final mark is $\\min(mark, 10)$"
   ]
  },
  {
   "cell_type": "code",
   "execution_count": null,
   "id": "4cfced62-9ea8-4972-8a44-0f59564f3c28",
   "metadata": {},
   "outputs": [],
   "source": []
  }
 ],
 "metadata": {
  "kernelspec": {
   "display_name": "Python 3 (ipykernel)",
   "language": "python",
   "name": "python3"
  },
  "language_info": {
   "codemirror_mode": {
    "name": "ipython",
    "version": 3
   },
   "file_extension": ".py",
   "mimetype": "text/x-python",
   "name": "python",
   "nbconvert_exporter": "python",
   "pygments_lexer": "ipython3",
   "version": "3.9.7"
  }
 },
 "nbformat": 4,
 "nbformat_minor": 5
}
