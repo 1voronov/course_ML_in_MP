{
 "cells": [
  {
   "cell_type": "code",
   "execution_count": 22,
   "id": "cbae4933-41fe-4d6f-816d-55f4ebf3d5ea",
   "metadata": {},
   "outputs": [],
   "source": [
    "import pandas as pd\n",
    "import numpy as np\n",
    "import matplotlib.pyplot as plt\n",
    "import seaborn as sns\n",
    "%matplotlib inline\n",
    "\n",
    "from sklearn.neural_network import MLPClassifier\n",
    "from sklearn.metrics import mean_squared_error, classification_report, confusion_matrix, f1_score, precision_score, recall_score\n",
    "from sklearn.model_selection import train_test_split\n",
    "\n",
    "from collections import Counter"
   ]
  },
  {
   "cell_type": "markdown",
   "id": "4201d2d5-9593-475e-8927-a265de2f82b2",
   "metadata": {},
   "source": [
    "# Data\n",
    "\n",
    "This data is actually related to the elastic strain engineering task: given the (modified) deformation tensor, predict, whether the tiny diamond crystal under this deformation is a direct-bandgap semiconductor, or not.\n",
    "\n",
    "I will save you some time and process the data for you."
   ]
  },
  {
   "cell_type": "code",
   "execution_count": 2,
   "id": "ead9dcef-e192-4d53-a766-e47439fbb1db",
   "metadata": {},
   "outputs": [],
   "source": [
    "df = pd.read_csv('c_gw_direct.csv')"
   ]
  },
  {
   "cell_type": "code",
   "execution_count": 3,
   "id": "98142e50-885c-4faf-b4e9-e6c8b803d1eb",
   "metadata": {},
   "outputs": [
    {
     "data": {
      "text/plain": [
       "(9766, 7)"
      ]
     },
     "execution_count": 3,
     "metadata": {},
     "output_type": "execute_result"
    }
   ],
   "source": [
    "df.shape"
   ]
  },
  {
   "cell_type": "code",
   "execution_count": 4,
   "id": "b8d4cc7e-41f6-4ce1-bff5-2951f4de08d6",
   "metadata": {},
   "outputs": [
    {
     "data": {
      "text/html": [
       "<div>\n",
       "<style scoped>\n",
       "    .dataframe tbody tr th:only-of-type {\n",
       "        vertical-align: middle;\n",
       "    }\n",
       "\n",
       "    .dataframe tbody tr th {\n",
       "        vertical-align: top;\n",
       "    }\n",
       "\n",
       "    .dataframe thead th {\n",
       "        text-align: right;\n",
       "    }\n",
       "</style>\n",
       "<table border=\"1\" class=\"dataframe\">\n",
       "  <thead>\n",
       "    <tr style=\"text-align: right;\">\n",
       "      <th></th>\n",
       "      <th>exx</th>\n",
       "      <th>exy</th>\n",
       "      <th>exz</th>\n",
       "      <th>eyz</th>\n",
       "      <th>eyy</th>\n",
       "      <th>ezz</th>\n",
       "      <th>is_direct</th>\n",
       "    </tr>\n",
       "  </thead>\n",
       "  <tbody>\n",
       "    <tr>\n",
       "      <th>0</th>\n",
       "      <td>-0.049931</td>\n",
       "      <td>0.019480</td>\n",
       "      <td>-0.012549</td>\n",
       "      <td>0.071484</td>\n",
       "      <td>0.000141</td>\n",
       "      <td>0.036242</td>\n",
       "      <td>False</td>\n",
       "    </tr>\n",
       "    <tr>\n",
       "      <th>1</th>\n",
       "      <td>0.057604</td>\n",
       "      <td>0.070671</td>\n",
       "      <td>-0.010140</td>\n",
       "      <td>-0.063918</td>\n",
       "      <td>0.032494</td>\n",
       "      <td>-0.078462</td>\n",
       "      <td>False</td>\n",
       "    </tr>\n",
       "    <tr>\n",
       "      <th>2</th>\n",
       "      <td>-0.020174</td>\n",
       "      <td>-0.059848</td>\n",
       "      <td>0.017878</td>\n",
       "      <td>0.077713</td>\n",
       "      <td>-0.087613</td>\n",
       "      <td>-0.079651</td>\n",
       "      <td>False</td>\n",
       "    </tr>\n",
       "    <tr>\n",
       "      <th>3</th>\n",
       "      <td>-0.023523</td>\n",
       "      <td>-0.026120</td>\n",
       "      <td>0.045459</td>\n",
       "      <td>-0.035286</td>\n",
       "      <td>-0.000705</td>\n",
       "      <td>0.038353</td>\n",
       "      <td>False</td>\n",
       "    </tr>\n",
       "    <tr>\n",
       "      <th>4</th>\n",
       "      <td>-0.050925</td>\n",
       "      <td>-0.006037</td>\n",
       "      <td>-0.042681</td>\n",
       "      <td>-0.016254</td>\n",
       "      <td>-0.019372</td>\n",
       "      <td>-0.037559</td>\n",
       "      <td>False</td>\n",
       "    </tr>\n",
       "    <tr>\n",
       "      <th>...</th>\n",
       "      <td>...</td>\n",
       "      <td>...</td>\n",
       "      <td>...</td>\n",
       "      <td>...</td>\n",
       "      <td>...</td>\n",
       "      <td>...</td>\n",
       "      <td>...</td>\n",
       "    </tr>\n",
       "    <tr>\n",
       "      <th>9761</th>\n",
       "      <td>-0.096821</td>\n",
       "      <td>0.049679</td>\n",
       "      <td>-0.065829</td>\n",
       "      <td>0.060488</td>\n",
       "      <td>0.008918</td>\n",
       "      <td>0.006889</td>\n",
       "      <td>False</td>\n",
       "    </tr>\n",
       "    <tr>\n",
       "      <th>9762</th>\n",
       "      <td>-0.074071</td>\n",
       "      <td>0.027148</td>\n",
       "      <td>-0.056629</td>\n",
       "      <td>-0.068732</td>\n",
       "      <td>0.070384</td>\n",
       "      <td>-0.008722</td>\n",
       "      <td>False</td>\n",
       "    </tr>\n",
       "    <tr>\n",
       "      <th>9763</th>\n",
       "      <td>-0.061505</td>\n",
       "      <td>0.015496</td>\n",
       "      <td>0.077352</td>\n",
       "      <td>-0.037589</td>\n",
       "      <td>-0.047513</td>\n",
       "      <td>-0.045182</td>\n",
       "      <td>False</td>\n",
       "    </tr>\n",
       "    <tr>\n",
       "      <th>9764</th>\n",
       "      <td>-0.037760</td>\n",
       "      <td>0.037480</td>\n",
       "      <td>0.002881</td>\n",
       "      <td>-0.059958</td>\n",
       "      <td>-0.047096</td>\n",
       "      <td>0.060803</td>\n",
       "      <td>False</td>\n",
       "    </tr>\n",
       "    <tr>\n",
       "      <th>9765</th>\n",
       "      <td>0.017428</td>\n",
       "      <td>0.008733</td>\n",
       "      <td>0.099832</td>\n",
       "      <td>0.028535</td>\n",
       "      <td>-0.054355</td>\n",
       "      <td>-0.006599</td>\n",
       "      <td>False</td>\n",
       "    </tr>\n",
       "  </tbody>\n",
       "</table>\n",
       "<p>9766 rows × 7 columns</p>\n",
       "</div>"
      ],
      "text/plain": [
       "           exx       exy       exz       eyz       eyy       ezz  is_direct\n",
       "0    -0.049931  0.019480 -0.012549  0.071484  0.000141  0.036242      False\n",
       "1     0.057604  0.070671 -0.010140 -0.063918  0.032494 -0.078462      False\n",
       "2    -0.020174 -0.059848  0.017878  0.077713 -0.087613 -0.079651      False\n",
       "3    -0.023523 -0.026120  0.045459 -0.035286 -0.000705  0.038353      False\n",
       "4    -0.050925 -0.006037 -0.042681 -0.016254 -0.019372 -0.037559      False\n",
       "...        ...       ...       ...       ...       ...       ...        ...\n",
       "9761 -0.096821  0.049679 -0.065829  0.060488  0.008918  0.006889      False\n",
       "9762 -0.074071  0.027148 -0.056629 -0.068732  0.070384 -0.008722      False\n",
       "9763 -0.061505  0.015496  0.077352 -0.037589 -0.047513 -0.045182      False\n",
       "9764 -0.037760  0.037480  0.002881 -0.059958 -0.047096  0.060803      False\n",
       "9765  0.017428  0.008733  0.099832  0.028535 -0.054355 -0.006599      False\n",
       "\n",
       "[9766 rows x 7 columns]"
      ]
     },
     "execution_count": 4,
     "metadata": {},
     "output_type": "execute_result"
    }
   ],
   "source": [
    "df"
   ]
  },
  {
   "cell_type": "code",
   "execution_count": 5,
   "id": "f8f92663-d0d6-4d38-b212-945f03ff3f03",
   "metadata": {},
   "outputs": [
    {
     "data": {
      "text/plain": [
       "1376"
      ]
     },
     "execution_count": 5,
     "metadata": {},
     "output_type": "execute_result"
    }
   ],
   "source": [
    "df.is_direct.sum()"
   ]
  },
  {
   "cell_type": "code",
   "execution_count": 6,
   "id": "fa6e5ecc-9a65-494a-a55f-7cad32cb9bb3",
   "metadata": {},
   "outputs": [],
   "source": [
    "# Getting arrays from table\n",
    "X = df[['exx', 'exy', 'exz', 'eyz', 'eyy', 'ezz']].values\n",
    "y = df['is_direct'].ravel()"
   ]
  },
  {
   "cell_type": "code",
   "execution_count": 7,
   "id": "d6f69d42-4ca5-456f-bc73-7bb26d7b8ddc",
   "metadata": {},
   "outputs": [
    {
     "data": {
      "text/plain": [
       "Counter({False: 6723, True: 1089})"
      ]
     },
     "execution_count": 7,
     "metadata": {},
     "output_type": "execute_result"
    }
   ],
   "source": [
    "X_train, X_test, y_train, y_test = train_test_split(X, y,\n",
    "                                                    test_size=0.2,\n",
    "                                                    random_state=124)\n",
    "Counter(y_train)"
   ]
  },
  {
   "cell_type": "markdown",
   "id": "5b7b2c3e-9ee1-44cf-b92d-f27f99150971",
   "metadata": {},
   "source": [
    "# (3 pts) Train and evaluate a simple neural network classifier\n",
    "\n",
    "- Train a model\n",
    "- Calculate its precision, recall, f1-score\n",
    "- Take a look at the confusion matrix"
   ]
  },
  {
   "cell_type": "markdown",
   "id": "baae2ab9-8a62-44f4-ac7b-e5fb10507fcf",
   "metadata": {},
   "source": [
    "### Train a model"
   ]
  },
  {
   "cell_type": "code",
   "execution_count": 25,
   "id": "26f94711-fc84-4077-8080-63d476c1de2b",
   "metadata": {
    "scrolled": true,
    "tags": []
   },
   "outputs": [
    {
     "data": {
      "text/plain": [
       "MLPClassifier(hidden_layer_sizes=(50, 50), max_iter=1000)"
      ]
     },
     "execution_count": 25,
     "metadata": {},
     "output_type": "execute_result"
    }
   ],
   "source": [
    "# your code starts here...\n",
    "model = MLPClassifier(hidden_layer_sizes=(50, 50, ), max_iter=1000)\n",
    "model.fit(X_train, y_train)"
   ]
  },
  {
   "cell_type": "markdown",
   "id": "db6342a9-889f-463f-a69f-9861c261ac34",
   "metadata": {},
   "source": [
    "### Look at the metrics"
   ]
  },
  {
   "cell_type": "code",
   "execution_count": 27,
   "id": "b984a22e-90c8-49b8-b51e-4b72c8e9323a",
   "metadata": {},
   "outputs": [
    {
     "name": "stdout",
     "output_type": "stream",
     "text": [
      "Precision: 0.8384879725085911\n",
      "Recall: 0.8501742160278746\n"
     ]
    }
   ],
   "source": [
    "predictions = model.predict(X_test)\n",
    "\n",
    "precision = precision_score(y_test, predictions)\n",
    "print(f'Precision: {precision}')\n",
    "\n",
    "recall = recall_score(y_test, predictions)\n",
    "print(f'Recall: {recall}')"
   ]
  },
  {
   "cell_type": "markdown",
   "id": "86214a26-1c86-4e6d-9629-0ef01b1e4c66",
   "metadata": {},
   "source": [
    "### Print the confusion matrix"
   ]
  },
  {
   "cell_type": "code",
   "execution_count": 28,
   "id": "2d3ad88f-6327-42a0-a428-94fa89368043",
   "metadata": {},
   "outputs": [
    {
     "data": {
      "text/plain": [
       "array([[1620,   47],\n",
       "       [  43,  244]])"
      ]
     },
     "execution_count": 28,
     "metadata": {},
     "output_type": "execute_result"
    }
   ],
   "source": [
    "confusion_matrix(y_test, predictions)"
   ]
  },
  {
   "cell_type": "markdown",
   "id": "9b47ec32-5340-44c0-b034-a20cfe1a6d88",
   "metadata": {},
   "source": [
    "# (3 pts) Use an undersampling technique to balance classes\n",
    "- Balance training sample\n",
    "- Train new model with the same hyperparameters as before\n",
    "- Evaluate its metrics. Is is better than the original model?"
   ]
  },
  {
   "cell_type": "code",
   "execution_count": 33,
   "id": "a63877f8-b911-4add-b418-7c0b56457c96",
   "metadata": {},
   "outputs": [
    {
     "data": {
      "text/plain": [
       "MLPClassifier(hidden_layer_sizes=(50, 50), max_iter=1000)"
      ]
     },
     "execution_count": 33,
     "metadata": {},
     "output_type": "execute_result"
    }
   ],
   "source": [
    "idx_for_larger_class = np.nonzero(y_train == False)[0]\n",
    "idx_for_smaller_class = np.nonzero(y_train == True)[0]\n",
    "\n",
    "less_idx_for_larger_class = np.random.choice(idx_for_larger_class,\n",
    "                                            len(idx_for_smaller_class),\n",
    "                                            replace=False)\n",
    "\n",
    "new_idx = list(less_idx_for_larger_class) + list(idx_for_smaller_class)\n",
    "\n",
    "X_train_new = X_train[new_idx, :]\n",
    "y_train_new = y_train[new_idx]\n",
    "\n",
    "model_balanced = MLPClassifier(hidden_layer_sizes=(50, 50, ), max_iter=1000)\n",
    "model_balanced.fit(X_train_new, y_train_new)\n"
   ]
  },
  {
   "cell_type": "code",
   "execution_count": 34,
   "id": "8573c593",
   "metadata": {},
   "outputs": [
    {
     "name": "stdout",
     "output_type": "stream",
     "text": [
      "Precision: 0.5227272727272727\n",
      "Recall: 0.9616724738675958\n"
     ]
    }
   ],
   "source": [
    "predictions_balanced = model_balanced.predict(X_test)\n",
    "\n",
    "precision = precision_score(y_test, predictions_balanced)\n",
    "print(f'Precision: {precision}')\n",
    "\n",
    "recall = recall_score(y_test, predictions_balanced)\n",
    "print(f'Recall: {recall}')"
   ]
  },
  {
   "cell_type": "code",
   "execution_count": 35,
   "id": "101348b2",
   "metadata": {},
   "outputs": [
    {
     "data": {
      "text/plain": [
       "array([[1415,  252],\n",
       "       [  11,  276]])"
      ]
     },
     "execution_count": 35,
     "metadata": {},
     "output_type": "execute_result"
    }
   ],
   "source": [
    "confusion_matrix(y_test, predictions_balanced)"
   ]
  },
  {
   "cell_type": "markdown",
   "id": "234e4a92",
   "metadata": {},
   "source": [
    "## Result:\n",
    "The random-balanced classes doesn't give us better model."
   ]
  },
  {
   "cell_type": "markdown",
   "id": "e662d222-719f-415b-9aa7-14482b6658ef",
   "metadata": {},
   "source": [
    "# (3 pts) Try the imblearn package and its undersampling methods\n",
    "https://imbalanced-learn.org/stable/under_sampling.html\n",
    "- Try NearMiss, NeighbourhoodCleaningRule, and EditedNearestNeighbours methods\n",
    "- Do they perform better than the random undersampling?\n",
    "\n",
    "### You may need to reinstall sklearn if it is old"
   ]
  },
  {
   "cell_type": "code",
   "execution_count": null,
   "id": "51cf1f5b-6a40-47b3-aa0a-cb1a5a277d89",
   "metadata": {
    "scrolled": true,
    "tags": []
   },
   "outputs": [],
   "source": [
    "# !pip uninstall -v scikit-learn -y"
   ]
  },
  {
   "cell_type": "code",
   "execution_count": null,
   "id": "7b3e62ad-c9ca-4128-a983-df0ab8106ec2",
   "metadata": {
    "scrolled": true,
    "tags": []
   },
   "outputs": [],
   "source": [
    "# !pip install -v scikit-learn"
   ]
  },
  {
   "cell_type": "code",
   "execution_count": null,
   "id": "d396fbd7-c790-4b7c-bfb2-2b9cde87966c",
   "metadata": {},
   "outputs": [],
   "source": [
    "# !pip install imblearn"
   ]
  },
  {
   "cell_type": "code",
   "execution_count": 36,
   "id": "4931365c-bebb-40b8-98bd-c6ae79b0a35b",
   "metadata": {},
   "outputs": [],
   "source": [
    "from imblearn.under_sampling import NearMiss, EditedNearestNeighbours, NeighbourhoodCleaningRule"
   ]
  },
  {
   "cell_type": "code",
   "execution_count": 37,
   "id": "24500213-36a9-44ff-8035-c273b89c66b3",
   "metadata": {},
   "outputs": [],
   "source": [
    "nm1 = NearMiss(version=1)\n",
    "X_resampled_nm1, y_resampled = nm1.fit_resample(X_train, y_train)"
   ]
  },
  {
   "cell_type": "code",
   "execution_count": 38,
   "id": "210f676f",
   "metadata": {},
   "outputs": [
    {
     "data": {
      "text/plain": [
       "MLPClassifier(hidden_layer_sizes=(50, 50), max_iter=1000)"
      ]
     },
     "execution_count": 38,
     "metadata": {},
     "output_type": "execute_result"
    }
   ],
   "source": [
    "model_balanced_nearmiss = MLPClassifier(hidden_layer_sizes=(50, 50, ), max_iter=1000)\n",
    "model_balanced_nearmiss.fit(X_train_new, y_train_new)"
   ]
  },
  {
   "cell_type": "code",
   "execution_count": 39,
   "id": "4c441c2e",
   "metadata": {},
   "outputs": [
    {
     "name": "stdout",
     "output_type": "stream",
     "text": [
      "Precision: 0.28398058252427183\n",
      "Recall: 0.8153310104529616\n"
     ]
    }
   ],
   "source": [
    "predictions_balanced_nearmiss = model_balanced_nearmiss.predict(X_test)\n",
    "\n",
    "precision = precision_score(y_test, predictions_balanced_nearmiss)\n",
    "print(f'Precision: {precision}')\n",
    "\n",
    "recall = recall_score(y_test, predictions_balanced_nearmiss)\n",
    "print(f'Recall: {recall}')"
   ]
  },
  {
   "cell_type": "markdown",
   "id": "7ac9f48a-b6b3-4198-9a72-55e90da320e3",
   "metadata": {},
   "source": [
    "# (3 pts) Perform hyperparameter tuning\n",
    "- Run a cycle through some hyperparater settings in order to find the best ones\n",
    "- E.g. hidden layer sizes, alpha regularization ...\n",
    "- You need to be able to outperform your initial model\n",
    "- I do not care whether you use balanced or imbalanced training set"
   ]
  },
  {
   "cell_type": "code",
   "execution_count": null,
   "id": "a68e89a2-867d-4271-b2d5-13bc22379a5d",
   "metadata": {},
   "outputs": [],
   "source": [
    "# (some cycle through archs)"
   ]
  },
  {
   "cell_type": "code",
   "execution_count": null,
   "id": "3c2a4899-91a6-426c-8a6b-a965a69e2802",
   "metadata": {},
   "outputs": [],
   "source": []
  },
  {
   "cell_type": "markdown",
   "id": "10ed2ff8-6273-4dc8-99bd-506d2ce23145",
   "metadata": {},
   "source": [
    "# Your final mark is $max(mark, 10)$"
   ]
  },
  {
   "cell_type": "code",
   "execution_count": null,
   "id": "4cfced62-9ea8-4972-8a44-0f59564f3c28",
   "metadata": {},
   "outputs": [],
   "source": []
  }
 ],
 "metadata": {
  "kernelspec": {
   "display_name": "Python 3 (ipykernel)",
   "language": "python",
   "name": "python3"
  },
  "language_info": {
   "codemirror_mode": {
    "name": "ipython",
    "version": 3
   },
   "file_extension": ".py",
   "mimetype": "text/x-python",
   "name": "python",
   "nbconvert_exporter": "python",
   "pygments_lexer": "ipython3",
   "version": "3.9.7"
  }
 },
 "nbformat": 4,
 "nbformat_minor": 5
}
